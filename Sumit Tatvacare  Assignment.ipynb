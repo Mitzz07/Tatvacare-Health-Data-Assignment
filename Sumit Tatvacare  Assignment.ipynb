{
 "cells": [
  {
   "cell_type": "markdown",
   "id": "53514d41",
   "metadata": {},
   "source": [
    "Name : Sumit Gawande | Assignment Tatvacare"
   ]
  },
  {
   "cell_type": "markdown",
   "id": "76df190d",
   "metadata": {},
   "source": [
    "# Data Cleaning, Preparation and Exploratory Data Analysis (EDA)"
   ]
  },
  {
   "cell_type": "markdown",
   "id": "c3b1a6e2",
   "metadata": {},
   "source": [
    "#Data cleaning done on Excel.\n",
    "\n",
    "Add one more binomial column based on diabetes as Presence of Diabetes and encode them as 0 and 1.\n",
    "Date Formating.\n",
    "Removed Irrelevant column -- Language spoken, Time and Index no.\n",
    "Removed missing datapoints in Doctor city\n",
    "Convert city and state name to proper case.\n",
    "Add New column naamed Age Group to group the Ages in 5 categories.\n",
    "Add Body Mass Index column, calculated from Height and Weight columns."
   ]
  },
  {
   "cell_type": "code",
   "execution_count": 1,
   "id": "6183d31e",
   "metadata": {},
   "outputs": [],
   "source": [
    "import pandas as pd"
   ]
  },
  {
   "cell_type": "code",
   "execution_count": 2,
   "id": "aca36810",
   "metadata": {},
   "outputs": [],
   "source": [
    "data = pd.read_excel(r\"C:\\Users\\ASUS\\Desktop\\Tatvacare Assign - Data Analyst.xlsx\")"
   ]
  },
  {
   "cell_type": "code",
   "execution_count": 3,
   "id": "14de19f1",
   "metadata": {},
   "outputs": [
    {
     "data": {
      "text/html": [
       "<div>\n",
       "<style scoped>\n",
       "    .dataframe tbody tr th:only-of-type {\n",
       "        vertical-align: middle;\n",
       "    }\n",
       "\n",
       "    .dataframe tbody tr th {\n",
       "        vertical-align: top;\n",
       "    }\n",
       "\n",
       "    .dataframe thead th {\n",
       "        text-align: right;\n",
       "    }\n",
       "</style>\n",
       "<table border=\"1\" class=\"dataframe\">\n",
       "  <thead>\n",
       "    <tr style=\"text-align: right;\">\n",
       "      <th></th>\n",
       "      <th>Patient Id</th>\n",
       "      <th>Indications</th>\n",
       "      <th>Presence of Diabetes</th>\n",
       "      <th>Onboarding Date</th>\n",
       "      <th>Age</th>\n",
       "      <th>Age Group</th>\n",
       "      <th>Gender</th>\n",
       "      <th>Height</th>\n",
       "      <th>Weight</th>\n",
       "      <th>Doctor Id</th>\n",
       "      <th>Doctor Gender</th>\n",
       "      <th>Doctor City</th>\n",
       "      <th>Doctor State</th>\n",
       "    </tr>\n",
       "  </thead>\n",
       "  <tbody>\n",
       "    <tr>\n",
       "      <th>0</th>\n",
       "      <td>001a1e8d-47c7-11ee-bf18-7b40cd44ecd5</td>\n",
       "      <td>Fatty Liver - NASH</td>\n",
       "      <td>1</td>\n",
       "      <td>2023-08-31</td>\n",
       "      <td>50</td>\n",
       "      <td>36-50</td>\n",
       "      <td>F</td>\n",
       "      <td>165.0</td>\n",
       "      <td>77.0</td>\n",
       "      <td>609dd764-f93a-11ed-9614-86c4450e7523</td>\n",
       "      <td>M</td>\n",
       "      <td>GHAZIABAD</td>\n",
       "      <td>UTTAR PRADESH</td>\n",
       "    </tr>\n",
       "    <tr>\n",
       "      <th>1</th>\n",
       "      <td>002b561d-5c7b-11ee-bf18-7b40cd44ecd5</td>\n",
       "      <td>Diabetes</td>\n",
       "      <td>1</td>\n",
       "      <td>2023-09-26</td>\n",
       "      <td>45</td>\n",
       "      <td>36-50</td>\n",
       "      <td>M</td>\n",
       "      <td>172.0</td>\n",
       "      <td>75.0</td>\n",
       "      <td>69193aaa-eeea-11ed-9614-86c4450e7523</td>\n",
       "      <td>M</td>\n",
       "      <td>DELHI I</td>\n",
       "      <td>Delhi</td>\n",
       "    </tr>\n",
       "  </tbody>\n",
       "</table>\n",
       "</div>"
      ],
      "text/plain": [
       "                             Patient Id         Indications  \\\n",
       "0  001a1e8d-47c7-11ee-bf18-7b40cd44ecd5  Fatty Liver - NASH   \n",
       "1  002b561d-5c7b-11ee-bf18-7b40cd44ecd5            Diabetes   \n",
       "\n",
       "   Presence of Diabetes Onboarding Date  Age Age Group Gender  Height  Weight  \\\n",
       "0                     1      2023-08-31   50     36-50      F   165.0    77.0   \n",
       "1                     1      2023-09-26   45     36-50      M   172.0    75.0   \n",
       "\n",
       "                              Doctor Id Doctor Gender Doctor City  \\\n",
       "0  609dd764-f93a-11ed-9614-86c4450e7523             M   GHAZIABAD   \n",
       "1  69193aaa-eeea-11ed-9614-86c4450e7523             M     DELHI I   \n",
       "\n",
       "    Doctor State  \n",
       "0  UTTAR PRADESH  \n",
       "1          Delhi  "
      ]
     },
     "execution_count": 3,
     "metadata": {},
     "output_type": "execute_result"
    }
   ],
   "source": [
    "data.head(2)"
   ]
  },
  {
   "cell_type": "code",
   "execution_count": 4,
   "id": "0e447301",
   "metadata": {},
   "outputs": [
    {
     "data": {
      "text/plain": [
       "(5687, 13)"
      ]
     },
     "execution_count": 4,
     "metadata": {},
     "output_type": "execute_result"
    }
   ],
   "source": [
    "data.shape    #no of datapoints and features"
   ]
  },
  {
   "cell_type": "code",
   "execution_count": 5,
   "id": "e99d6812",
   "metadata": {},
   "outputs": [],
   "source": [
    "#Making city and state names to Proper case\n",
    "\n",
    "data['Doctor City'] = data['Doctor City'].str.title()\n",
    "data['Doctor State'] = data['Doctor State'].str.title()"
   ]
  },
  {
   "cell_type": "code",
   "execution_count": 6,
   "id": "7250ecf9",
   "metadata": {},
   "outputs": [
    {
     "data": {
      "text/html": [
       "<div>\n",
       "<style scoped>\n",
       "    .dataframe tbody tr th:only-of-type {\n",
       "        vertical-align: middle;\n",
       "    }\n",
       "\n",
       "    .dataframe tbody tr th {\n",
       "        vertical-align: top;\n",
       "    }\n",
       "\n",
       "    .dataframe thead th {\n",
       "        text-align: right;\n",
       "    }\n",
       "</style>\n",
       "<table border=\"1\" class=\"dataframe\">\n",
       "  <thead>\n",
       "    <tr style=\"text-align: right;\">\n",
       "      <th></th>\n",
       "      <th>Patient Id</th>\n",
       "      <th>Indications</th>\n",
       "      <th>Presence of Diabetes</th>\n",
       "      <th>Onboarding Date</th>\n",
       "      <th>Age</th>\n",
       "      <th>Age Group</th>\n",
       "      <th>Gender</th>\n",
       "      <th>Height</th>\n",
       "      <th>Weight</th>\n",
       "      <th>Doctor Id</th>\n",
       "      <th>Doctor Gender</th>\n",
       "      <th>Doctor City</th>\n",
       "      <th>Doctor State</th>\n",
       "    </tr>\n",
       "  </thead>\n",
       "  <tbody>\n",
       "    <tr>\n",
       "      <th>0</th>\n",
       "      <td>001a1e8d-47c7-11ee-bf18-7b40cd44ecd5</td>\n",
       "      <td>Fatty Liver - NASH</td>\n",
       "      <td>1</td>\n",
       "      <td>2023-08-31</td>\n",
       "      <td>50</td>\n",
       "      <td>36-50</td>\n",
       "      <td>F</td>\n",
       "      <td>165.0</td>\n",
       "      <td>77.0</td>\n",
       "      <td>609dd764-f93a-11ed-9614-86c4450e7523</td>\n",
       "      <td>M</td>\n",
       "      <td>Ghaziabad</td>\n",
       "      <td>Uttar Pradesh</td>\n",
       "    </tr>\n",
       "    <tr>\n",
       "      <th>1</th>\n",
       "      <td>002b561d-5c7b-11ee-bf18-7b40cd44ecd5</td>\n",
       "      <td>Diabetes</td>\n",
       "      <td>1</td>\n",
       "      <td>2023-09-26</td>\n",
       "      <td>45</td>\n",
       "      <td>36-50</td>\n",
       "      <td>M</td>\n",
       "      <td>172.0</td>\n",
       "      <td>75.0</td>\n",
       "      <td>69193aaa-eeea-11ed-9614-86c4450e7523</td>\n",
       "      <td>M</td>\n",
       "      <td>Delhi I</td>\n",
       "      <td>Delhi</td>\n",
       "    </tr>\n",
       "  </tbody>\n",
       "</table>\n",
       "</div>"
      ],
      "text/plain": [
       "                             Patient Id         Indications  \\\n",
       "0  001a1e8d-47c7-11ee-bf18-7b40cd44ecd5  Fatty Liver - NASH   \n",
       "1  002b561d-5c7b-11ee-bf18-7b40cd44ecd5            Diabetes   \n",
       "\n",
       "   Presence of Diabetes Onboarding Date  Age Age Group Gender  Height  Weight  \\\n",
       "0                     1      2023-08-31   50     36-50      F   165.0    77.0   \n",
       "1                     1      2023-09-26   45     36-50      M   172.0    75.0   \n",
       "\n",
       "                              Doctor Id Doctor Gender Doctor City  \\\n",
       "0  609dd764-f93a-11ed-9614-86c4450e7523             M   Ghaziabad   \n",
       "1  69193aaa-eeea-11ed-9614-86c4450e7523             M     Delhi I   \n",
       "\n",
       "    Doctor State  \n",
       "0  Uttar Pradesh  \n",
       "1          Delhi  "
      ]
     },
     "execution_count": 6,
     "metadata": {},
     "output_type": "execute_result"
    }
   ],
   "source": [
    "data.head(2)"
   ]
  },
  {
   "cell_type": "code",
   "execution_count": 10,
   "id": "6a515922",
   "metadata": {},
   "outputs": [
    {
     "data": {
      "text/plain": [
       "Patient Id              5687\n",
       "Indications                4\n",
       "Presence of Diabetes       2\n",
       "Onboarding Date           61\n",
       "Age                       74\n",
       "Age Group                  5\n",
       "Gender                     2\n",
       "Height                    56\n",
       "Weight                   100\n",
       "Doctor Id                445\n",
       "Doctor Gender              2\n",
       "Doctor City              132\n",
       "Doctor State              23\n",
       "dtype: int64"
      ]
     },
     "execution_count": 10,
     "metadata": {},
     "output_type": "execute_result"
    }
   ],
   "source": [
    "data.nunique()   #to check unique values in each variable"
   ]
  },
  {
   "cell_type": "code",
   "execution_count": 11,
   "id": "fdc28d1e",
   "metadata": {},
   "outputs": [
    {
     "data": {
      "text/plain": [
       "Patient Id                 0\n",
       "Indications                0\n",
       "Presence of Diabetes       0\n",
       "Onboarding Date            0\n",
       "Age                        0\n",
       "Age Group                  0\n",
       "Gender                     0\n",
       "Height                  2896\n",
       "Weight                  2896\n",
       "Doctor Id                  0\n",
       "Doctor Gender              0\n",
       "Doctor City                0\n",
       "Doctor State               0\n",
       "dtype: int64"
      ]
     },
     "execution_count": 11,
     "metadata": {},
     "output_type": "execute_result"
    }
   ],
   "source": [
    "data.isnull().sum()       #null values in each column"
   ]
  },
  {
   "cell_type": "code",
   "execution_count": 12,
   "id": "000e9b7c",
   "metadata": {},
   "outputs": [
    {
     "data": {
      "text/plain": [
       "Patient Id               0.000000\n",
       "Indications              0.000000\n",
       "Presence of Diabetes     0.000000\n",
       "Onboarding Date          0.000000\n",
       "Age                      0.000000\n",
       "Age Group                0.000000\n",
       "Gender                   0.000000\n",
       "Height                  50.923158\n",
       "Weight                  50.923158\n",
       "Doctor Id                0.000000\n",
       "Doctor Gender            0.000000\n",
       "Doctor City              0.000000\n",
       "Doctor State             0.000000\n",
       "dtype: float64"
      ]
     },
     "execution_count": 12,
     "metadata": {},
     "output_type": "execute_result"
    }
   ],
   "source": [
    "(data.isnull().sum()/(len(data)))*100         # percentage null values in each column"
   ]
  },
  {
   "cell_type": "code",
   "execution_count": 13,
   "id": "f4576f83",
   "metadata": {},
   "outputs": [
    {
     "name": "stdout",
     "output_type": "stream",
     "text": [
      "<class 'pandas.core.frame.DataFrame'>\n",
      "RangeIndex: 5687 entries, 0 to 5686\n",
      "Data columns (total 13 columns):\n",
      " #   Column                Non-Null Count  Dtype         \n",
      "---  ------                --------------  -----         \n",
      " 0   Patient Id            5687 non-null   object        \n",
      " 1   Indications           5687 non-null   object        \n",
      " 2   Presence of Diabetes  5687 non-null   int64         \n",
      " 3   Onboarding Date       5687 non-null   datetime64[ns]\n",
      " 4   Age                   5687 non-null   int64         \n",
      " 5   Age Group             5687 non-null   object        \n",
      " 6   Gender                5687 non-null   object        \n",
      " 7   Height                2791 non-null   float64       \n",
      " 8   Weight                2791 non-null   float64       \n",
      " 9   Doctor Id             5687 non-null   object        \n",
      " 10  Doctor Gender         5687 non-null   object        \n",
      " 11  Doctor City           5687 non-null   object        \n",
      " 12  Doctor State          5687 non-null   object        \n",
      "dtypes: datetime64[ns](1), float64(2), int64(2), object(8)\n",
      "memory usage: 577.7+ KB\n"
     ]
    }
   ],
   "source": [
    "data.info()             "
   ]
  },
  {
   "cell_type": "code",
   "execution_count": 14,
   "id": "5c40b1fa",
   "metadata": {},
   "outputs": [
    {
     "data": {
      "text/html": [
       "<div>\n",
       "<style scoped>\n",
       "    .dataframe tbody tr th:only-of-type {\n",
       "        vertical-align: middle;\n",
       "    }\n",
       "\n",
       "    .dataframe tbody tr th {\n",
       "        vertical-align: top;\n",
       "    }\n",
       "\n",
       "    .dataframe thead th {\n",
       "        text-align: right;\n",
       "    }\n",
       "</style>\n",
       "<table border=\"1\" class=\"dataframe\">\n",
       "  <thead>\n",
       "    <tr style=\"text-align: right;\">\n",
       "      <th></th>\n",
       "      <th>Presence of Diabetes</th>\n",
       "      <th>Age</th>\n",
       "      <th>Height</th>\n",
       "      <th>Weight</th>\n",
       "    </tr>\n",
       "  </thead>\n",
       "  <tbody>\n",
       "    <tr>\n",
       "      <th>count</th>\n",
       "      <td>5687.00</td>\n",
       "      <td>5687.00</td>\n",
       "      <td>2791.00</td>\n",
       "      <td>2791.00</td>\n",
       "    </tr>\n",
       "    <tr>\n",
       "      <th>mean</th>\n",
       "      <td>0.46</td>\n",
       "      <td>45.00</td>\n",
       "      <td>164.33</td>\n",
       "      <td>72.93</td>\n",
       "    </tr>\n",
       "    <tr>\n",
       "      <th>std</th>\n",
       "      <td>0.50</td>\n",
       "      <td>13.69</td>\n",
       "      <td>9.05</td>\n",
       "      <td>13.34</td>\n",
       "    </tr>\n",
       "    <tr>\n",
       "      <th>min</th>\n",
       "      <td>0.00</td>\n",
       "      <td>18.00</td>\n",
       "      <td>121.00</td>\n",
       "      <td>30.00</td>\n",
       "    </tr>\n",
       "    <tr>\n",
       "      <th>25%</th>\n",
       "      <td>0.00</td>\n",
       "      <td>35.00</td>\n",
       "      <td>160.00</td>\n",
       "      <td>63.00</td>\n",
       "    </tr>\n",
       "    <tr>\n",
       "      <th>50%</th>\n",
       "      <td>0.00</td>\n",
       "      <td>43.00</td>\n",
       "      <td>165.00</td>\n",
       "      <td>73.00</td>\n",
       "    </tr>\n",
       "    <tr>\n",
       "      <th>75%</th>\n",
       "      <td>1.00</td>\n",
       "      <td>54.00</td>\n",
       "      <td>170.00</td>\n",
       "      <td>85.00</td>\n",
       "    </tr>\n",
       "    <tr>\n",
       "      <th>max</th>\n",
       "      <td>1.00</td>\n",
       "      <td>92.00</td>\n",
       "      <td>198.00</td>\n",
       "      <td>120.00</td>\n",
       "    </tr>\n",
       "  </tbody>\n",
       "</table>\n",
       "</div>"
      ],
      "text/plain": [
       "       Presence of Diabetes      Age   Height   Weight\n",
       "count               5687.00  5687.00  2791.00  2791.00\n",
       "mean                   0.46    45.00   164.33    72.93\n",
       "std                    0.50    13.69     9.05    13.34\n",
       "min                    0.00    18.00   121.00    30.00\n",
       "25%                    0.00    35.00   160.00    63.00\n",
       "50%                    0.00    43.00   165.00    73.00\n",
       "75%                    1.00    54.00   170.00    85.00\n",
       "max                    1.00    92.00   198.00   120.00"
      ]
     },
     "execution_count": 14,
     "metadata": {},
     "output_type": "execute_result"
    }
   ],
   "source": [
    "data.describe().round(2)    #Basic statistics abt the data"
   ]
  },
  {
   "cell_type": "code",
   "execution_count": 15,
   "id": "a8aa6afb",
   "metadata": {},
   "outputs": [],
   "source": [
    "#Imputing null values in height column by group means.\n",
    "\n",
    "grouped_means = data.groupby('Gender')['Height'].transform('mean')\n",
    "data['Height'].fillna(grouped_means, inplace=True)"
   ]
  },
  {
   "cell_type": "code",
   "execution_count": 16,
   "id": "7ac65469",
   "metadata": {},
   "outputs": [],
   "source": [
    "#Imputing null values in Weight column by group means.\n",
    "\n",
    "grouped_means = data.groupby('Gender')['Weight'].transform('mean')\n",
    "data['Weight'].fillna(grouped_means, inplace=True)"
   ]
  },
  {
   "cell_type": "code",
   "execution_count": 17,
   "id": "863c7ff0",
   "metadata": {},
   "outputs": [
    {
     "data": {
      "text/html": [
       "<div>\n",
       "<style scoped>\n",
       "    .dataframe tbody tr th:only-of-type {\n",
       "        vertical-align: middle;\n",
       "    }\n",
       "\n",
       "    .dataframe tbody tr th {\n",
       "        vertical-align: top;\n",
       "    }\n",
       "\n",
       "    .dataframe thead th {\n",
       "        text-align: right;\n",
       "    }\n",
       "</style>\n",
       "<table border=\"1\" class=\"dataframe\">\n",
       "  <thead>\n",
       "    <tr style=\"text-align: right;\">\n",
       "      <th></th>\n",
       "      <th>Patient Id</th>\n",
       "      <th>Indications</th>\n",
       "      <th>Presence of Diabetes</th>\n",
       "      <th>Onboarding Date</th>\n",
       "      <th>Age</th>\n",
       "      <th>Age Group</th>\n",
       "      <th>Gender</th>\n",
       "      <th>Height</th>\n",
       "      <th>Weight</th>\n",
       "      <th>Doctor Id</th>\n",
       "      <th>Doctor Gender</th>\n",
       "      <th>Doctor City</th>\n",
       "      <th>Doctor State</th>\n",
       "    </tr>\n",
       "  </thead>\n",
       "  <tbody>\n",
       "    <tr>\n",
       "      <th>0</th>\n",
       "      <td>001a1e8d-47c7-11ee-bf18-7b40cd44ecd5</td>\n",
       "      <td>Fatty Liver - NASH</td>\n",
       "      <td>1</td>\n",
       "      <td>2023-08-31</td>\n",
       "      <td>50</td>\n",
       "      <td>36-50</td>\n",
       "      <td>F</td>\n",
       "      <td>165.00</td>\n",
       "      <td>77.00</td>\n",
       "      <td>609dd764-f93a-11ed-9614-86c4450e7523</td>\n",
       "      <td>M</td>\n",
       "      <td>Ghaziabad</td>\n",
       "      <td>Uttar Pradesh</td>\n",
       "    </tr>\n",
       "    <tr>\n",
       "      <th>1</th>\n",
       "      <td>002b561d-5c7b-11ee-bf18-7b40cd44ecd5</td>\n",
       "      <td>Diabetes</td>\n",
       "      <td>1</td>\n",
       "      <td>2023-09-26</td>\n",
       "      <td>45</td>\n",
       "      <td>36-50</td>\n",
       "      <td>M</td>\n",
       "      <td>172.00</td>\n",
       "      <td>75.00</td>\n",
       "      <td>69193aaa-eeea-11ed-9614-86c4450e7523</td>\n",
       "      <td>M</td>\n",
       "      <td>Delhi I</td>\n",
       "      <td>Delhi</td>\n",
       "    </tr>\n",
       "    <tr>\n",
       "      <th>2</th>\n",
       "      <td>003111e5-5ba2-11ee-bf18-7b40cd44ecd5</td>\n",
       "      <td>Diabetes</td>\n",
       "      <td>1</td>\n",
       "      <td>2023-09-25</td>\n",
       "      <td>39</td>\n",
       "      <td>36-50</td>\n",
       "      <td>F</td>\n",
       "      <td>158.63</td>\n",
       "      <td>68.34</td>\n",
       "      <td>0bb89ed6-eeee-11ed-9614-86c4450e7523</td>\n",
       "      <td>M</td>\n",
       "      <td>Ludhiana</td>\n",
       "      <td>Punjab</td>\n",
       "    </tr>\n",
       "    <tr>\n",
       "      <th>3</th>\n",
       "      <td>0050c2ea-41b5-11ee-bf18-7b40cd44ecd5</td>\n",
       "      <td>Diabetes</td>\n",
       "      <td>1</td>\n",
       "      <td>2023-08-23</td>\n",
       "      <td>67</td>\n",
       "      <td>66 above</td>\n",
       "      <td>M</td>\n",
       "      <td>166.50</td>\n",
       "      <td>74.67</td>\n",
       "      <td>7e421c0e-eef3-11ed-9614-86c4450e7523</td>\n",
       "      <td>M</td>\n",
       "      <td>Siliguri</td>\n",
       "      <td>West Bengal</td>\n",
       "    </tr>\n",
       "    <tr>\n",
       "      <th>4</th>\n",
       "      <td>005e06c0-3753-11ee-a67f-f4ce2d75c16b</td>\n",
       "      <td>Fatty Liver - NAFL</td>\n",
       "      <td>1</td>\n",
       "      <td>2023-08-10</td>\n",
       "      <td>60</td>\n",
       "      <td>51-65</td>\n",
       "      <td>M</td>\n",
       "      <td>166.50</td>\n",
       "      <td>74.67</td>\n",
       "      <td>b12294f7-f939-11ed-9614-86c4450e7523</td>\n",
       "      <td>M</td>\n",
       "      <td>Wadala</td>\n",
       "      <td>Maharashtra</td>\n",
       "    </tr>\n",
       "  </tbody>\n",
       "</table>\n",
       "</div>"
      ],
      "text/plain": [
       "                             Patient Id         Indications  \\\n",
       "0  001a1e8d-47c7-11ee-bf18-7b40cd44ecd5  Fatty Liver - NASH   \n",
       "1  002b561d-5c7b-11ee-bf18-7b40cd44ecd5            Diabetes   \n",
       "2  003111e5-5ba2-11ee-bf18-7b40cd44ecd5            Diabetes   \n",
       "3  0050c2ea-41b5-11ee-bf18-7b40cd44ecd5            Diabetes   \n",
       "4  005e06c0-3753-11ee-a67f-f4ce2d75c16b  Fatty Liver - NAFL   \n",
       "\n",
       "   Presence of Diabetes Onboarding Date  Age Age Group Gender  Height  Weight  \\\n",
       "0                     1      2023-08-31   50     36-50      F  165.00   77.00   \n",
       "1                     1      2023-09-26   45     36-50      M  172.00   75.00   \n",
       "2                     1      2023-09-25   39     36-50      F  158.63   68.34   \n",
       "3                     1      2023-08-23   67  66 above      M  166.50   74.67   \n",
       "4                     1      2023-08-10   60     51-65      M  166.50   74.67   \n",
       "\n",
       "                              Doctor Id Doctor Gender Doctor City  \\\n",
       "0  609dd764-f93a-11ed-9614-86c4450e7523             M   Ghaziabad   \n",
       "1  69193aaa-eeea-11ed-9614-86c4450e7523             M     Delhi I   \n",
       "2  0bb89ed6-eeee-11ed-9614-86c4450e7523             M    Ludhiana   \n",
       "3  7e421c0e-eef3-11ed-9614-86c4450e7523             M    Siliguri   \n",
       "4  b12294f7-f939-11ed-9614-86c4450e7523             M      Wadala   \n",
       "\n",
       "    Doctor State  \n",
       "0  Uttar Pradesh  \n",
       "1          Delhi  \n",
       "2         Punjab  \n",
       "3    West Bengal  \n",
       "4    Maharashtra  "
      ]
     },
     "execution_count": 17,
     "metadata": {},
     "output_type": "execute_result"
    }
   ],
   "source": [
    "data.head(5).round(2)"
   ]
  },
  {
   "cell_type": "code",
   "execution_count": 18,
   "id": "44d2233e",
   "metadata": {},
   "outputs": [],
   "source": [
    "#Adding a BMI variable from Height and Weight variable.\n",
    "\n",
    "data['BMI'] = data['Weight'] / ((data['Height'] / 100) ** 2)"
   ]
  },
  {
   "cell_type": "code",
   "execution_count": 19,
   "id": "1453b4dc",
   "metadata": {},
   "outputs": [
    {
     "data": {
      "text/html": [
       "<div>\n",
       "<style scoped>\n",
       "    .dataframe tbody tr th:only-of-type {\n",
       "        vertical-align: middle;\n",
       "    }\n",
       "\n",
       "    .dataframe tbody tr th {\n",
       "        vertical-align: top;\n",
       "    }\n",
       "\n",
       "    .dataframe thead th {\n",
       "        text-align: right;\n",
       "    }\n",
       "</style>\n",
       "<table border=\"1\" class=\"dataframe\">\n",
       "  <thead>\n",
       "    <tr style=\"text-align: right;\">\n",
       "      <th></th>\n",
       "      <th>Patient Id</th>\n",
       "      <th>Indications</th>\n",
       "      <th>Presence of Diabetes</th>\n",
       "      <th>Onboarding Date</th>\n",
       "      <th>Age</th>\n",
       "      <th>Age Group</th>\n",
       "      <th>Gender</th>\n",
       "      <th>Height</th>\n",
       "      <th>Weight</th>\n",
       "      <th>Doctor Id</th>\n",
       "      <th>Doctor Gender</th>\n",
       "      <th>Doctor City</th>\n",
       "      <th>Doctor State</th>\n",
       "      <th>BMI</th>\n",
       "    </tr>\n",
       "  </thead>\n",
       "  <tbody>\n",
       "    <tr>\n",
       "      <th>0</th>\n",
       "      <td>001a1e8d-47c7-11ee-bf18-7b40cd44ecd5</td>\n",
       "      <td>Fatty Liver - NASH</td>\n",
       "      <td>1</td>\n",
       "      <td>2023-08-31</td>\n",
       "      <td>50</td>\n",
       "      <td>36-50</td>\n",
       "      <td>F</td>\n",
       "      <td>165.00</td>\n",
       "      <td>77.00</td>\n",
       "      <td>609dd764-f93a-11ed-9614-86c4450e7523</td>\n",
       "      <td>M</td>\n",
       "      <td>Ghaziabad</td>\n",
       "      <td>Uttar Pradesh</td>\n",
       "      <td>28.28</td>\n",
       "    </tr>\n",
       "    <tr>\n",
       "      <th>1</th>\n",
       "      <td>002b561d-5c7b-11ee-bf18-7b40cd44ecd5</td>\n",
       "      <td>Diabetes</td>\n",
       "      <td>1</td>\n",
       "      <td>2023-09-26</td>\n",
       "      <td>45</td>\n",
       "      <td>36-50</td>\n",
       "      <td>M</td>\n",
       "      <td>172.00</td>\n",
       "      <td>75.00</td>\n",
       "      <td>69193aaa-eeea-11ed-9614-86c4450e7523</td>\n",
       "      <td>M</td>\n",
       "      <td>Delhi I</td>\n",
       "      <td>Delhi</td>\n",
       "      <td>25.35</td>\n",
       "    </tr>\n",
       "    <tr>\n",
       "      <th>2</th>\n",
       "      <td>003111e5-5ba2-11ee-bf18-7b40cd44ecd5</td>\n",
       "      <td>Diabetes</td>\n",
       "      <td>1</td>\n",
       "      <td>2023-09-25</td>\n",
       "      <td>39</td>\n",
       "      <td>36-50</td>\n",
       "      <td>F</td>\n",
       "      <td>158.63</td>\n",
       "      <td>68.34</td>\n",
       "      <td>0bb89ed6-eeee-11ed-9614-86c4450e7523</td>\n",
       "      <td>M</td>\n",
       "      <td>Ludhiana</td>\n",
       "      <td>Punjab</td>\n",
       "      <td>27.16</td>\n",
       "    </tr>\n",
       "  </tbody>\n",
       "</table>\n",
       "</div>"
      ],
      "text/plain": [
       "                             Patient Id         Indications  \\\n",
       "0  001a1e8d-47c7-11ee-bf18-7b40cd44ecd5  Fatty Liver - NASH   \n",
       "1  002b561d-5c7b-11ee-bf18-7b40cd44ecd5            Diabetes   \n",
       "2  003111e5-5ba2-11ee-bf18-7b40cd44ecd5            Diabetes   \n",
       "\n",
       "   Presence of Diabetes Onboarding Date  Age Age Group Gender  Height  Weight  \\\n",
       "0                     1      2023-08-31   50     36-50      F  165.00   77.00   \n",
       "1                     1      2023-09-26   45     36-50      M  172.00   75.00   \n",
       "2                     1      2023-09-25   39     36-50      F  158.63   68.34   \n",
       "\n",
       "                              Doctor Id Doctor Gender Doctor City  \\\n",
       "0  609dd764-f93a-11ed-9614-86c4450e7523             M   Ghaziabad   \n",
       "1  69193aaa-eeea-11ed-9614-86c4450e7523             M     Delhi I   \n",
       "2  0bb89ed6-eeee-11ed-9614-86c4450e7523             M    Ludhiana   \n",
       "\n",
       "    Doctor State    BMI  \n",
       "0  Uttar Pradesh  28.28  \n",
       "1          Delhi  25.35  \n",
       "2         Punjab  27.16  "
      ]
     },
     "execution_count": 19,
     "metadata": {},
     "output_type": "execute_result"
    }
   ],
   "source": [
    "data.head(3).round(2)"
   ]
  },
  {
   "cell_type": "code",
   "execution_count": 20,
   "id": "f6ac59e4",
   "metadata": {},
   "outputs": [
    {
     "data": {
      "text/html": [
       "<div>\n",
       "<style scoped>\n",
       "    .dataframe tbody tr th:only-of-type {\n",
       "        vertical-align: middle;\n",
       "    }\n",
       "\n",
       "    .dataframe tbody tr th {\n",
       "        vertical-align: top;\n",
       "    }\n",
       "\n",
       "    .dataframe thead th {\n",
       "        text-align: right;\n",
       "    }\n",
       "</style>\n",
       "<table border=\"1\" class=\"dataframe\">\n",
       "  <thead>\n",
       "    <tr style=\"text-align: right;\">\n",
       "      <th></th>\n",
       "      <th>Presence of Diabetes</th>\n",
       "      <th>Age</th>\n",
       "      <th>Height</th>\n",
       "      <th>Weight</th>\n",
       "      <th>BMI</th>\n",
       "    </tr>\n",
       "  </thead>\n",
       "  <tbody>\n",
       "    <tr>\n",
       "      <th>count</th>\n",
       "      <td>5687.00</td>\n",
       "      <td>5687.00</td>\n",
       "      <td>5687.00</td>\n",
       "      <td>5687.00</td>\n",
       "      <td>5687.00</td>\n",
       "    </tr>\n",
       "    <tr>\n",
       "      <th>mean</th>\n",
       "      <td>0.46</td>\n",
       "      <td>45.00</td>\n",
       "      <td>164.19</td>\n",
       "      <td>72.81</td>\n",
       "      <td>27.05</td>\n",
       "    </tr>\n",
       "    <tr>\n",
       "      <th>std</th>\n",
       "      <td>0.50</td>\n",
       "      <td>13.69</td>\n",
       "      <td>6.85</td>\n",
       "      <td>9.58</td>\n",
       "      <td>3.59</td>\n",
       "    </tr>\n",
       "    <tr>\n",
       "      <th>min</th>\n",
       "      <td>0.00</td>\n",
       "      <td>18.00</td>\n",
       "      <td>121.00</td>\n",
       "      <td>30.00</td>\n",
       "      <td>10.53</td>\n",
       "    </tr>\n",
       "    <tr>\n",
       "      <th>25%</th>\n",
       "      <td>0.00</td>\n",
       "      <td>35.00</td>\n",
       "      <td>158.63</td>\n",
       "      <td>68.34</td>\n",
       "      <td>26.94</td>\n",
       "    </tr>\n",
       "    <tr>\n",
       "      <th>50%</th>\n",
       "      <td>0.00</td>\n",
       "      <td>43.00</td>\n",
       "      <td>166.50</td>\n",
       "      <td>74.67</td>\n",
       "      <td>26.94</td>\n",
       "    </tr>\n",
       "    <tr>\n",
       "      <th>75%</th>\n",
       "      <td>1.00</td>\n",
       "      <td>54.00</td>\n",
       "      <td>166.50</td>\n",
       "      <td>74.67</td>\n",
       "      <td>27.16</td>\n",
       "    </tr>\n",
       "    <tr>\n",
       "      <th>max</th>\n",
       "      <td>1.00</td>\n",
       "      <td>92.00</td>\n",
       "      <td>198.00</td>\n",
       "      <td>120.00</td>\n",
       "      <td>63.74</td>\n",
       "    </tr>\n",
       "  </tbody>\n",
       "</table>\n",
       "</div>"
      ],
      "text/plain": [
       "       Presence of Diabetes      Age   Height   Weight      BMI\n",
       "count               5687.00  5687.00  5687.00  5687.00  5687.00\n",
       "mean                   0.46    45.00   164.19    72.81    27.05\n",
       "std                    0.50    13.69     6.85     9.58     3.59\n",
       "min                    0.00    18.00   121.00    30.00    10.53\n",
       "25%                    0.00    35.00   158.63    68.34    26.94\n",
       "50%                    0.00    43.00   166.50    74.67    26.94\n",
       "75%                    1.00    54.00   166.50    74.67    27.16\n",
       "max                    1.00    92.00   198.00   120.00    63.74"
      ]
     },
     "execution_count": 20,
     "metadata": {},
     "output_type": "execute_result"
    }
   ],
   "source": [
    "data.describe().round(2)"
   ]
  },
  {
   "cell_type": "code",
   "execution_count": 21,
   "id": "907292f8",
   "metadata": {},
   "outputs": [
    {
     "data": {
      "text/plain": [
       "Patient Id              0\n",
       "Indications             0\n",
       "Presence of Diabetes    0\n",
       "Onboarding Date         0\n",
       "Age                     0\n",
       "Age Group               0\n",
       "Gender                  0\n",
       "Height                  0\n",
       "Weight                  0\n",
       "Doctor Id               0\n",
       "Doctor Gender           0\n",
       "Doctor City             0\n",
       "Doctor State            0\n",
       "BMI                     0\n",
       "dtype: int64"
      ]
     },
     "execution_count": 21,
     "metadata": {},
     "output_type": "execute_result"
    }
   ],
   "source": [
    "data.isnull().sum()"
   ]
  },
  {
   "cell_type": "code",
   "execution_count": 53,
   "id": "3de0bde2",
   "metadata": {},
   "outputs": [
    {
     "data": {
      "text/html": [
       "<div>\n",
       "<style scoped>\n",
       "    .dataframe tbody tr th:only-of-type {\n",
       "        vertical-align: middle;\n",
       "    }\n",
       "\n",
       "    .dataframe tbody tr th {\n",
       "        vertical-align: top;\n",
       "    }\n",
       "\n",
       "    .dataframe thead th {\n",
       "        text-align: right;\n",
       "    }\n",
       "</style>\n",
       "<table border=\"1\" class=\"dataframe\">\n",
       "  <thead>\n",
       "    <tr style=\"text-align: right;\">\n",
       "      <th></th>\n",
       "      <th>Presence of Diabetes</th>\n",
       "      <th>Age</th>\n",
       "      <th>Height</th>\n",
       "      <th>Weight</th>\n",
       "      <th>BMI</th>\n",
       "      <th>Cluster</th>\n",
       "    </tr>\n",
       "  </thead>\n",
       "  <tbody>\n",
       "    <tr>\n",
       "      <th>Presence of Diabetes</th>\n",
       "      <td>1.000000</td>\n",
       "      <td>0.190615</td>\n",
       "      <td>0.012340</td>\n",
       "      <td>0.108305</td>\n",
       "      <td>0.097063</td>\n",
       "      <td>-0.173547</td>\n",
       "    </tr>\n",
       "    <tr>\n",
       "      <th>Age</th>\n",
       "      <td>0.190615</td>\n",
       "      <td>1.000000</td>\n",
       "      <td>-0.083248</td>\n",
       "      <td>-0.034503</td>\n",
       "      <td>0.018256</td>\n",
       "      <td>-0.433170</td>\n",
       "    </tr>\n",
       "    <tr>\n",
       "      <th>Height</th>\n",
       "      <td>0.012340</td>\n",
       "      <td>-0.083248</td>\n",
       "      <td>1.000000</td>\n",
       "      <td>0.342838</td>\n",
       "      <td>-0.301977</td>\n",
       "      <td>0.158191</td>\n",
       "    </tr>\n",
       "    <tr>\n",
       "      <th>Weight</th>\n",
       "      <td>0.108305</td>\n",
       "      <td>-0.034503</td>\n",
       "      <td>0.342838</td>\n",
       "      <td>1.000000</td>\n",
       "      <td>0.780445</td>\n",
       "      <td>-0.463173</td>\n",
       "    </tr>\n",
       "    <tr>\n",
       "      <th>BMI</th>\n",
       "      <td>0.097063</td>\n",
       "      <td>0.018256</td>\n",
       "      <td>-0.301977</td>\n",
       "      <td>0.780445</td>\n",
       "      <td>1.000000</td>\n",
       "      <td>-0.573382</td>\n",
       "    </tr>\n",
       "    <tr>\n",
       "      <th>Cluster</th>\n",
       "      <td>-0.173547</td>\n",
       "      <td>-0.433170</td>\n",
       "      <td>0.158191</td>\n",
       "      <td>-0.463173</td>\n",
       "      <td>-0.573382</td>\n",
       "      <td>1.000000</td>\n",
       "    </tr>\n",
       "  </tbody>\n",
       "</table>\n",
       "</div>"
      ],
      "text/plain": [
       "                      Presence of Diabetes       Age    Height    Weight  \\\n",
       "Presence of Diabetes              1.000000  0.190615  0.012340  0.108305   \n",
       "Age                               0.190615  1.000000 -0.083248 -0.034503   \n",
       "Height                            0.012340 -0.083248  1.000000  0.342838   \n",
       "Weight                            0.108305 -0.034503  0.342838  1.000000   \n",
       "BMI                               0.097063  0.018256 -0.301977  0.780445   \n",
       "Cluster                          -0.173547 -0.433170  0.158191 -0.463173   \n",
       "\n",
       "                           BMI   Cluster  \n",
       "Presence of Diabetes  0.097063 -0.173547  \n",
       "Age                   0.018256 -0.433170  \n",
       "Height               -0.301977  0.158191  \n",
       "Weight                0.780445 -0.463173  \n",
       "BMI                   1.000000 -0.573382  \n",
       "Cluster              -0.573382  1.000000  "
      ]
     },
     "execution_count": 53,
     "metadata": {},
     "output_type": "execute_result"
    }
   ],
   "source": [
    "data.corr()"
   ]
  },
  {
   "cell_type": "code",
   "execution_count": 22,
   "id": "2345b18b",
   "metadata": {},
   "outputs": [],
   "source": [
    "import seaborn as sns"
   ]
  },
  {
   "cell_type": "code",
   "execution_count": null,
   "id": "0d5940e9",
   "metadata": {},
   "outputs": [],
   "source": [
    "# UNIVARIATE PLOTS"
   ]
  },
  {
   "cell_type": "code",
   "execution_count": 54,
   "id": "30e4d696",
   "metadata": {},
   "outputs": [
    {
     "data": {
      "text/plain": [
       "<AxesSubplot:xlabel='Height', ylabel='Count'>"
      ]
     },
     "execution_count": 54,
     "metadata": {},
     "output_type": "execute_result"
    },
    {
     "data": {
      "image/png": "[encoded data removed]",
      "text/plain": [
       "<Figure size 432x288 with 1 Axes>"
      ]
     },
     "metadata": {
      "needs_background": "light"
     },
     "output_type": "display_data"
    }
   ],
   "source": [
    "sns.histplot(data['Height'], palette=\"pastel\")"
   ]
  },
  {
   "cell_type": "code",
   "execution_count": 55,
   "id": "47005c71",
   "metadata": {},
   "outputs": [
    {
     "data": {
      "text/plain": [
       "<AxesSubplot:xlabel='Height'>"
      ]
     },
     "execution_count": 55,
     "metadata": {},
     "output_type": "execute_result"
    },
    {
     "data": {
      "image/png": "[encoded data removed]",
      "text/plain": [
       "<Figure size 432x288 with 1 Axes>"
      ]
     },
     "metadata": {
      "needs_background": "light"
     },
     "output_type": "display_data"
    }
   ],
   "source": [
    "sns.boxplot(data=data, x='Height', palette=\"pastel\")"
   ]
  },
  {
   "cell_type": "code",
   "execution_count": 52,
   "id": "1a39cf89",
   "metadata": {},
   "outputs": [
    {
     "data": {
      "text/plain": [
       "<AxesSubplot:xlabel='Height', ylabel='Count'>"
      ]
     },
     "execution_count": 52,
     "metadata": {},
     "output_type": "execute_result"
    },
    {
     "data": {
      "image/png": "[encoded data removed]",
      "text/plain": [
       "<Figure size 432x288 with 1 Axes>"
      ]
     },
     "metadata": {
      "needs_background": "light"
     },
     "output_type": "display_data"
    }
   ],
   "source": [
    "sns.histplot(data= data, x= 'Height', palette=\"pastel\")"
   ]
  },
  {
   "cell_type": "code",
   "execution_count": 51,
   "id": "07aca621",
   "metadata": {},
   "outputs": [
    {
     "data": {
      "text/plain": [
       "<AxesSubplot:xlabel='Weight'>"
      ]
     },
     "execution_count": 51,
     "metadata": {},
     "output_type": "execute_result"
    },
    {
     "data": {
      "image/png": "[encoded data removed]",
      "text/plain": [
       "<Figure size 432x288 with 1 Axes>"
      ]
     },
     "metadata": {
      "needs_background": "light"
     },
     "output_type": "display_data"
    }
   ],
   "source": [
    "sns.boxplot(data=data, x='Weight',palette=\"pastel\")"
   ]
  },
  {
   "cell_type": "code",
   "execution_count": 45,
   "id": "8e042b29",
   "metadata": {},
   "outputs": [
    {
     "data": {
      "text/plain": [
       "<AxesSubplot:xlabel='Gender', ylabel='count'>"
      ]
     },
     "execution_count": 45,
     "metadata": {},
     "output_type": "execute_result"
    },
    {
     "data": {
      "image/png": "[encoded data removed]",
      "text/plain": [
       "<Figure size 432x288 with 1 Axes>"
      ]
     },
     "metadata": {
      "needs_background": "light"
     },
     "output_type": "display_data"
    }
   ],
   "source": [
    "sns.countplot(x=\"Gender\", data=data, palette=\"pastel\")"
   ]
  },
  {
   "cell_type": "code",
   "execution_count": 46,
   "id": "4b31a4d4",
   "metadata": {},
   "outputs": [
    {
     "data": {
      "text/plain": [
       "<AxesSubplot:xlabel='Indications', ylabel='count'>"
      ]
     },
     "execution_count": 46,
     "metadata": {},
     "output_type": "execute_result"
    },
    {
     "data": {
      "image/png": "[encoded data removed]",
      "text/plain": [
       "<Figure size 432x288 with 1 Axes>"
      ]
     },
     "metadata": {
      "needs_background": "light"
     },
     "output_type": "display_data"
    }
   ],
   "source": [
    "sns.countplot(x=\"Indications\", data=data, palette=\"pastel\")"
   ]
  },
  {
   "cell_type": "code",
   "execution_count": 98,
   "id": "aa8ff1f5",
   "metadata": {},
   "outputs": [
    {
     "data": {
      "text/plain": [
       "(array([ 0,  1,  2,  3,  4,  5,  6,  7,  8,  9, 10, 11, 12, 13, 14, 15, 16,\n",
       "        17, 18, 19, 20, 21, 22]),\n",
       " [Text(0, 0, 'Uttar Pradesh'),\n",
       "  Text(1, 0, 'Delhi'),\n",
       "  Text(2, 0, 'Punjab'),\n",
       "  Text(3, 0, 'West Bengal'),\n",
       "  Text(4, 0, 'Maharashtra'),\n",
       "  Text(5, 0, 'Jharkhand'),\n",
       "  Text(6, 0, 'Chandigarh'),\n",
       "  Text(7, 0, 'Andhra Pradesh'),\n",
       "  Text(8, 0, 'Karnataka'),\n",
       "  Text(9, 0, 'Rajasthan'),\n",
       "  Text(10, 0, 'Uttarakhand'),\n",
       "  Text(11, 0, 'Bihar'),\n",
       "  Text(12, 0, 'Assam'),\n",
       "  Text(13, 0, 'Chhattisgarh'),\n",
       "  Text(14, 0, 'Madhya Pradesh'),\n",
       "  Text(15, 0, 'Haryana'),\n",
       "  Text(16, 0, 'Tamil Nadu'),\n",
       "  Text(17, 0, 'Kerala'),\n",
       "  Text(18, 0, 'Jammu And Kashmir'),\n",
       "  Text(19, 0, 'Odisha'),\n",
       "  Text(20, 0, 'Chandigarh (Ut)'),\n",
       "  Text(21, 0, 'Gujarat'),\n",
       "  Text(22, 0, 'Orissa')])"
      ]
     },
     "execution_count": 98,
     "metadata": {},
     "output_type": "execute_result"
    },
    {
     "data": {
      "image/png": "[encoded data removed]",
      "text/plain": [
       "<Figure size 432x288 with 1 Axes>"
      ]
     },
     "metadata": {
      "needs_background": "light"
     },
     "output_type": "display_data"
    }
   ],
   "source": [
    "sns.countplot(x=\"Doctor State\", data=data,palette=\"pastel\")\n",
    "plt.xticks(rotation=90) "
   ]
  },
  {
   "cell_type": "code",
   "execution_count": null,
   "id": "28a92fb0",
   "metadata": {},
   "outputs": [],
   "source": [
    "# BIVARIATE PLOTS"
   ]
  },
  {
   "cell_type": "code",
   "execution_count": 50,
   "id": "a3ecdfbb",
   "metadata": {},
   "outputs": [
    {
     "data": {
      "text/plain": [
       "Text(0.5, 1.0, 'Distribution of Age across Different Indications')"
      ]
     },
     "execution_count": 50,
     "metadata": {},
     "output_type": "execute_result"
    },
    {
     "data": {
      "image/png": "[encoded data removed]",
      "text/plain": [
       "<Figure size 432x288 with 1 Axes>"
      ]
     },
     "metadata": {
      "needs_background": "light"
     },
     "output_type": "display_data"
    }
   ],
   "source": [
    "sns.violinplot(x=\"Indications\", y=\"Age\", data=data, palette=\"muted\")           #bivariate\n",
    "plt.title(\"Distribution of Age across Different Indications\", fontsize=16)"
   ]
  },
  {
   "cell_type": "code",
   "execution_count": 57,
   "id": "d6560ea2",
   "metadata": {},
   "outputs": [
    {
     "data": {
      "text/plain": [
       "<AxesSubplot:xlabel='Indications', ylabel='Age'>"
      ]
     },
     "execution_count": 57,
     "metadata": {},
     "output_type": "execute_result"
    },
    {
     "data": {
      "image/png": "[encoded data removed]",
      "text/plain": [
       "<Figure size 432x288 with 1 Axes>"
      ]
     },
     "metadata": {
      "needs_background": "light"
     },
     "output_type": "display_data"
    }
   ],
   "source": [
    "sns.boxplot(x='Indications', y='Age', data=data)"
   ]
  },
  {
   "cell_type": "code",
   "execution_count": 58,
   "id": "4937ef01",
   "metadata": {},
   "outputs": [
    {
     "data": {
      "text/plain": [
       "<AxesSubplot:xlabel='Indications', ylabel='Height'>"
      ]
     },
     "execution_count": 58,
     "metadata": {},
     "output_type": "execute_result"
    },
    {
     "data": {
      "image/png": "[encoded data removed]",
      "text/plain": [
       "<Figure size 432x288 with 1 Axes>"
      ]
     },
     "metadata": {
      "needs_background": "light"
     },
     "output_type": "display_data"
    }
   ],
   "source": [
    "sns.boxplot(x='Indications', y='Height', data=data)"
   ]
  },
  {
   "cell_type": "code",
   "execution_count": 61,
   "id": "7a5ea4ff",
   "metadata": {},
   "outputs": [
    {
     "data": {
      "text/plain": [
       "<AxesSubplot:xlabel='Indications', ylabel='Weight'>"
      ]
     },
     "execution_count": 61,
     "metadata": {},
     "output_type": "execute_result"
    },
    {
     "data": {
      "image/png": "[encoded data removed]",
      "text/plain": [
       "<Figure size 432x288 with 1 Axes>"
      ]
     },
     "metadata": {
      "needs_background": "light"
     },
     "output_type": "display_data"
    }
   ],
   "source": [
    "sns.boxplot(x='Indications', y='Weight', data=data)"
   ]
  },
  {
   "cell_type": "code",
   "execution_count": 64,
   "id": "92e559fa",
   "metadata": {},
   "outputs": [
    {
     "data": {
      "text/plain": [
       "<AxesSubplot:xlabel='Age Group', ylabel='count'>"
      ]
     },
     "execution_count": 64,
     "metadata": {},
     "output_type": "execute_result"
    },
    {
     "data": {
      "image/png": "[encoded data removed]",
      "text/plain": [
       "<Figure size 432x288 with 1 Axes>"
      ]
     },
     "metadata": {
      "needs_background": "light"
     },
     "output_type": "display_data"
    }
   ],
   "source": [
    "sns.countplot(x='Age Group', hue='Gender', data=data[data['Indications'] == 'Diabetes'])    # We Can plot same for all indicaitons."
   ]
  },
  {
   "cell_type": "code",
   "execution_count": null,
   "id": "5f9a5fdc",
   "metadata": {},
   "outputs": [],
   "source": [
    "# MULTIVARIATE PLOTS"
   ]
  },
  {
   "cell_type": "code",
   "execution_count": 70,
   "id": "cfb5e3fc",
   "metadata": {},
   "outputs": [
    {
     "data": {
      "image/png": "[encoded data removed]",
      "text/plain": [
       "<Figure size 576x432 with 2 Axes>"
      ]
     },
     "metadata": {
      "needs_background": "light"
     },
     "output_type": "display_data"
    }
   ],
   "source": [
    "numerical_columns = ['Age', 'Height', 'Weight','BMI']\n",
    "\n",
    "correlation_matrix = data[numerical_columns].corr()\n",
    "\n",
    "# Heatmap\n",
    "plt.figure(figsize=(8, 6))\n",
    "sns.heatmap(correlation_matrix, annot=True, cmap='coolwarm', linewidths=.5)\n",
    "plt.title('Correlation Matrix')\n",
    "plt.show()"
   ]
  },
  {
   "cell_type": "code",
   "execution_count": 67,
   "id": "14ea5aa0",
   "metadata": {
    "scrolled": true
   },
   "outputs": [
    {
     "data": {
      "image/png": "[encoded data removed]",
      "text/plain": [
       "<Figure size 432x288 with 1 Axes>"
      ]
     },
     "metadata": {
      "needs_background": "light"
     },
     "output_type": "display_data"
    }
   ],
   "source": [
    "# MAke a contingency table for two categorical variable Indications and Gender\n",
    "contingency_table = pd.crosstab(data['Indications'], data['Gender'])\n",
    "\n",
    "# stacked bar chart\n",
    "contingency_table.plot(kind='bar', stacked=True)\n",
    "plt.xlabel('Indications')\n",
    "plt.ylabel('Count')\n",
    "plt.title('Stacked Bar Chart: Indications by Gender')\n",
    "plt.show()"
   ]
  },
  {
   "cell_type": "code",
   "execution_count": null,
   "id": "c1cb90a1",
   "metadata": {},
   "outputs": [],
   "source": [
    "# Timewise analysis of diabetes patient"
   ]
  },
  {
   "cell_type": "code",
   "execution_count": 78,
   "id": "54bb0383",
   "metadata": {
    "scrolled": true
   },
   "outputs": [
    {
     "data": {
      "text/plain": [
       "<AxesSubplot:xlabel='Onboarding Date', ylabel='Number of Diabetes Cases'>"
      ]
     },
     "execution_count": 78,
     "metadata": {},
     "output_type": "execute_result"
    },
    {
     "data": {
      "image/png": "[encoded data removed]",
      "text/plain": [
       "<Figure size 432x288 with 1 Axes>"
      ]
     },
     "metadata": {
      "needs_background": "light"
     },
     "output_type": "display_data"
    }
   ],
   "source": [
    "# Convert 'Onboarding Date' column to datetime\n",
    "data['Onboarding Date'] = pd.to_datetime(data['Onboarding Date'], format='%d/%m/%Y')\n",
    "\n",
    "# Diabetes cases\n",
    "diabetes_data = data[data['Indications'] == 'Diabetes']\n",
    "\n",
    "# Group data by Onboarding Date\n",
    "diabetes_trends = diabetes_data.groupby('Onboarding Date').size().reset_index(name='Number of Diabetes Cases')\n",
    "\n",
    "# line chart\n",
    "sns.lineplot(x='Onboarding Date', y='Number of Diabetes Cases', data=diabetes_trends, marker='o')"
   ]
  },
  {
   "cell_type": "code",
   "execution_count": null,
   "id": "9c8e3ff4",
   "metadata": {},
   "outputs": [],
   "source": [
    "# PAtient Indiacatons wise and Age wise"
   ]
  },
  {
   "cell_type": "code",
   "execution_count": 92,
   "id": "58645756",
   "metadata": {},
   "outputs": [
    {
     "data": {
      "text/plain": [
       "<AxesSubplot:xlabel='Indications', ylabel='Number of Patients'>"
      ]
     },
     "execution_count": 92,
     "metadata": {},
     "output_type": "execute_result"
    },
    {
     "data": {
      "image/png": "[encoded data removed]",
      "text/plain": [
       "<Figure size 864x432 with 1 Axes>"
      ]
     },
     "metadata": {
      "needs_background": "light"
     },
     "output_type": "display_data"
    }
   ],
   "source": [
    "patient_profiles = data.groupby(['Indications', 'Gender', 'Age Group']).size().reset_index(name='Number of Patients')\n",
    "\n",
    "plt.figure(figsize=(12, 6))\n",
    "sns.barplot(x='Indications', y='Number of Patients', hue='Age Group', data=patient_profiles, ci=None)"
   ]
  },
  {
   "cell_type": "code",
   "execution_count": 97,
   "id": "93a3043f",
   "metadata": {},
   "outputs": [
    {
     "data": {
      "text/plain": [
       "(array([ 0,  1,  2,  3,  4,  5,  6,  7,  8,  9, 10, 11, 12, 13, 14, 15, 16,\n",
       "        17, 18, 19, 20, 21, 22]),\n",
       " [Text(0, 0, 'Andhra Pradesh'),\n",
       "  Text(1, 0, 'Assam'),\n",
       "  Text(2, 0, 'Bihar'),\n",
       "  Text(3, 0, 'Chandigarh'),\n",
       "  Text(4, 0, 'Chandigarh (Ut)'),\n",
       "  Text(5, 0, 'Chhattisgarh'),\n",
       "  Text(6, 0, 'Delhi'),\n",
       "  Text(7, 0, 'Gujarat'),\n",
       "  Text(8, 0, 'Haryana'),\n",
       "  Text(9, 0, 'Jammu And Kashmir'),\n",
       "  Text(10, 0, 'Jharkhand'),\n",
       "  Text(11, 0, 'Karnataka'),\n",
       "  Text(12, 0, 'Kerala'),\n",
       "  Text(13, 0, 'Madhya Pradesh'),\n",
       "  Text(14, 0, 'Maharashtra'),\n",
       "  Text(15, 0, 'Odisha'),\n",
       "  Text(16, 0, 'Orissa'),\n",
       "  Text(17, 0, 'Punjab'),\n",
       "  Text(18, 0, 'Rajasthan'),\n",
       "  Text(19, 0, 'Tamil Nadu'),\n",
       "  Text(20, 0, 'Uttar Pradesh'),\n",
       "  Text(21, 0, 'Uttarakhand'),\n",
       "  Text(22, 0, 'West Bengal')])"
      ]
     },
     "execution_count": 97,
     "metadata": {},
     "output_type": "execute_result"
    },
    {
     "data": {
      "image/png": "[encoded data removed]",
      "text/plain": [
       "<Figure size 864x432 with 1 Axes>"
      ]
     },
     "metadata": {
      "needs_background": "light"
     },
     "output_type": "display_data"
    }
   ],
   "source": [
    "# Doctor's statewise patients\n",
    "doctor_distribution = data.groupby('Doctor State').size().reset_index(name='Number of Patients')\n",
    "\n",
    "plt.figure(figsize=(12, 6))\n",
    "sns.barplot(x='Doctor State', y='Number of Patients', data=doctor_distribution, ci=None)\n",
    "plt.xticks(rotation=90) "
   ]
  },
  {
   "cell_type": "code",
   "execution_count": null,
   "id": "90f3c65d",
   "metadata": {},
   "outputs": [],
   "source": []
  },
  {
   "cell_type": "markdown",
   "id": "531dd2b2",
   "metadata": {},
   "source": [
    "# Patient Segmentation:\n",
    "\n",
    "# CLUSTERING"
   ]
  },
  {
   "cell_type": "code",
   "execution_count": 31,
   "id": "0e93bd9b",
   "metadata": {},
   "outputs": [
    {
     "data": {
      "text/html": [
       "<div>\n",
       "<style scoped>\n",
       "    .dataframe tbody tr th:only-of-type {\n",
       "        vertical-align: middle;\n",
       "    }\n",
       "\n",
       "    .dataframe tbody tr th {\n",
       "        vertical-align: top;\n",
       "    }\n",
       "\n",
       "    .dataframe thead th {\n",
       "        text-align: right;\n",
       "    }\n",
       "</style>\n",
       "<table border=\"1\" class=\"dataframe\">\n",
       "  <thead>\n",
       "    <tr style=\"text-align: right;\">\n",
       "      <th></th>\n",
       "      <th>Patient Id</th>\n",
       "      <th>Indications</th>\n",
       "      <th>Presence of Diabetes</th>\n",
       "      <th>Onboarding Date</th>\n",
       "      <th>Age</th>\n",
       "      <th>Age Group</th>\n",
       "      <th>Gender</th>\n",
       "      <th>Height</th>\n",
       "      <th>Weight</th>\n",
       "      <th>Doctor Id</th>\n",
       "      <th>Doctor Gender</th>\n",
       "      <th>Doctor City</th>\n",
       "      <th>Doctor State</th>\n",
       "      <th>BMI</th>\n",
       "    </tr>\n",
       "  </thead>\n",
       "  <tbody>\n",
       "    <tr>\n",
       "      <th>0</th>\n",
       "      <td>001a1e8d-47c7-11ee-bf18-7b40cd44ecd5</td>\n",
       "      <td>Fatty Liver - NASH</td>\n",
       "      <td>1</td>\n",
       "      <td>2023-08-31</td>\n",
       "      <td>50</td>\n",
       "      <td>36-50</td>\n",
       "      <td>F</td>\n",
       "      <td>165.000000</td>\n",
       "      <td>77.000000</td>\n",
       "      <td>609dd764-f93a-11ed-9614-86c4450e7523</td>\n",
       "      <td>M</td>\n",
       "      <td>Ghaziabad</td>\n",
       "      <td>Uttar Pradesh</td>\n",
       "      <td>28.282828</td>\n",
       "    </tr>\n",
       "    <tr>\n",
       "      <th>1</th>\n",
       "      <td>002b561d-5c7b-11ee-bf18-7b40cd44ecd5</td>\n",
       "      <td>Diabetes</td>\n",
       "      <td>1</td>\n",
       "      <td>2023-09-26</td>\n",
       "      <td>45</td>\n",
       "      <td>36-50</td>\n",
       "      <td>M</td>\n",
       "      <td>172.000000</td>\n",
       "      <td>75.000000</td>\n",
       "      <td>69193aaa-eeea-11ed-9614-86c4450e7523</td>\n",
       "      <td>M</td>\n",
       "      <td>Delhi I</td>\n",
       "      <td>Delhi</td>\n",
       "      <td>25.351541</td>\n",
       "    </tr>\n",
       "    <tr>\n",
       "      <th>2</th>\n",
       "      <td>003111e5-5ba2-11ee-bf18-7b40cd44ecd5</td>\n",
       "      <td>Diabetes</td>\n",
       "      <td>1</td>\n",
       "      <td>2023-09-25</td>\n",
       "      <td>39</td>\n",
       "      <td>36-50</td>\n",
       "      <td>F</td>\n",
       "      <td>158.627273</td>\n",
       "      <td>68.338182</td>\n",
       "      <td>0bb89ed6-eeee-11ed-9614-86c4450e7523</td>\n",
       "      <td>M</td>\n",
       "      <td>Ludhiana</td>\n",
       "      <td>Punjab</td>\n",
       "      <td>27.158620</td>\n",
       "    </tr>\n",
       "  </tbody>\n",
       "</table>\n",
       "</div>"
      ],
      "text/plain": [
       "                             Patient Id         Indications  \\\n",
       "0  001a1e8d-47c7-11ee-bf18-7b40cd44ecd5  Fatty Liver - NASH   \n",
       "1  002b561d-5c7b-11ee-bf18-7b40cd44ecd5            Diabetes   \n",
       "2  003111e5-5ba2-11ee-bf18-7b40cd44ecd5            Diabetes   \n",
       "\n",
       "   Presence of Diabetes Onboarding Date  Age Age Group Gender      Height  \\\n",
       "0                     1      2023-08-31   50     36-50      F  165.000000   \n",
       "1                     1      2023-09-26   45     36-50      M  172.000000   \n",
       "2                     1      2023-09-25   39     36-50      F  158.627273   \n",
       "\n",
       "      Weight                             Doctor Id Doctor Gender Doctor City  \\\n",
       "0  77.000000  609dd764-f93a-11ed-9614-86c4450e7523             M   Ghaziabad   \n",
       "1  75.000000  69193aaa-eeea-11ed-9614-86c4450e7523             M     Delhi I   \n",
       "2  68.338182  0bb89ed6-eeee-11ed-9614-86c4450e7523             M    Ludhiana   \n",
       "\n",
       "    Doctor State        BMI  \n",
       "0  Uttar Pradesh  28.282828  \n",
       "1          Delhi  25.351541  \n",
       "2         Punjab  27.158620  "
      ]
     },
     "execution_count": 31,
     "metadata": {},
     "output_type": "execute_result"
    }
   ],
   "source": [
    "data.head(3)"
   ]
  },
  {
   "cell_type": "code",
   "execution_count": 32,
   "id": "b3d24af6",
   "metadata": {},
   "outputs": [],
   "source": [
    "from sklearn.preprocessing import StandardScaler\n",
    "\n",
    "# feature selection for clustering\n",
    "features = data[['BMI','Age']]\n",
    "\n",
    "# Standardize the features\n",
    "scaler = StandardScaler()\n",
    "features_scaled = scaler.fit_transform(features)"
   ]
  },
  {
   "cell_type": "code",
   "execution_count": 33,
   "id": "fa020b42",
   "metadata": {},
   "outputs": [
    {
     "data": {
      "image/png": "[encoded data removed]",
      "text/plain": [
       "<Figure size 432x288 with 1 Axes>"
      ]
     },
     "metadata": {
      "needs_background": "light"
     },
     "output_type": "display_data"
    }
   ],
   "source": [
    "from sklearn.cluster import KMeans\n",
    "import matplotlib.pyplot as plt\n",
    "\n",
    "wcss = []     #Within cluster sum of squares\n",
    "for i in range(1, 11):\n",
    "    kmeans = KMeans(n_clusters=i, init='k-means++', max_iter=300, n_init=10, random_state=0)\n",
    "    kmeans.fit(features_scaled)\n",
    "    wcss.append(kmeans.inertia_)\n",
    "\n",
    "# Plot the Elbow Method graph\n",
    "plt.plot(range(1, 11), wcss)\n",
    "plt.title('Elbow Method')\n",
    "plt.xlabel('Number of clusters')\n",
    "plt.ylabel('WCSS')\n",
    "plt.show()"
   ]
  },
  {
   "cell_type": "code",
   "execution_count": 35,
   "id": "9e88fcb7",
   "metadata": {},
   "outputs": [
    {
     "name": "stdout",
     "output_type": "stream",
     "text": [
      "2    2498\n",
      "1    2249\n",
      "0     940\n",
      "Name: Cluster, dtype: int64\n"
     ]
    }
   ],
   "source": [
    "# So Based on Elbow Method \n",
    "k = 3\n",
    "# Apply K-Means clustering\n",
    "kmeans = KMeans(n_clusters=k, init='k-means++', max_iter=300, n_init=10, random_state=0)\n",
    "cluster_labels = kmeans.fit_predict(features_scaled)\n",
    "\n",
    "# Add cluster labels to the original data\n",
    "data['Cluster'] = cluster_labels\n",
    "\n",
    "# Print the count of patients in each cluster\n",
    "print(data['Cluster'].value_counts())"
   ]
  },
  {
   "cell_type": "code",
   "execution_count": 36,
   "id": "dcbf759a",
   "metadata": {},
   "outputs": [
    {
     "data": {
      "image/png": "[encoded data removed]",
      "text/plain": [
       "<Figure size 576x432 with 1 Axes>"
      ]
     },
     "metadata": {
      "needs_background": "light"
     },
     "output_type": "display_data"
    }
   ],
   "source": [
    "# Visualize clusters using scatter plot\n",
    "plt.figure(figsize=(8, 6))\n",
    "for cluster in range(k):\n",
    "    cluster_data = data[data['Cluster'] == cluster]\n",
    "    plt.scatter(cluster_data['Age'], cluster_data['BMI'], label=f'Cluster {cluster}')\n",
    "plt.xlabel('Age')\n",
    "plt.ylabel('BMI')\n",
    "plt.title('Clusters of Patients (Age vs BMI)')\n",
    "plt.legend()\n",
    "plt.show()"
   ]
  },
  {
   "cell_type": "markdown",
   "id": "da7eacf8",
   "metadata": {},
   "source": [
    "#Interpretation: \n",
    "Based on the Cluster Image,  We can classify the patients in the cluster having less BMI are more likely to have healthy weight and height than the ptients in the other clusters. So they will have better lifestyle."
   ]
  },
  {
   "cell_type": "markdown",
   "id": "962808e3",
   "metadata": {},
   "source": [
    "# Recommendations: "
   ]
  },
  {
   "cell_type": "code",
   "execution_count": null,
   "id": "a0bc9899",
   "metadata": {},
   "outputs": [],
   "source": [
    "glucose level,blood pressure, insulin , thickness"
   ]
  },
  {
   "cell_type": "code",
   "execution_count": null,
   "id": "e63c16d3",
   "metadata": {},
   "outputs": [],
   "source": [
    "I think, While collecting data few more parameters should be considered for more accurate analysis.\n",
    "General parameters like Glucose level, Thickness of the body, Blood Pressure , Insulin level should be focused in this case.\n",
    "If we have data of more parameters, we can train a machine learning model to know whether the patient has a perticular disease way before the testing.\n",
    "Also, we can can collect the data related to the diet of the patient so as to develop a model which can show a particular diet plan."
   ]
  },
  {
   "cell_type": "markdown",
   "id": "497c3a4e",
   "metadata": {},
   "source": [
    "# Thank You"
   ]
  }
 ],
 "metadata": {
  "kernelspec": {
   "display_name": "Python 3 (ipykernel)",
   "language": "python",
   "name": "python3"
  },
  "language_info": {
   "codemirror_mode": {
    "name": "ipython",
    "version": 3
   },
   "file_extension": ".py",
   "mimetype": "text/x-python",
   "name": "python",
   "nbconvert_exporter": "python",
   "pygments_lexer": "ipython3",
   "version": "3.9.7"
  }
 },
 "nbformat": 4,
 "nbformat_minor": 5
}
